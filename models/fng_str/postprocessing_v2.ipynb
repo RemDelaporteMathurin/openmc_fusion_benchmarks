{
 "cells": [
  {
   "cell_type": "code",
   "execution_count": 1,
   "metadata": {},
   "outputs": [],
   "source": [
    "import openmc_sinbad_benchmarks as osb\n",
    "import os\n",
    "import helpers"
   ]
  },
  {
   "cell_type": "code",
   "execution_count": 2,
   "metadata": {},
   "outputs": [],
   "source": [
    "cwd = os.getcwd()"
   ]
  },
  {
   "cell_type": "code",
   "execution_count": 3,
   "metadata": {},
   "outputs": [],
   "source": [
    "os.chdir('results_database')"
   ]
  },
  {
   "cell_type": "code",
   "execution_count": 4,
   "metadata": {},
   "outputs": [],
   "source": [
    "# read sinbad data\n",
    "experiment = osb.ResultsFromDatabase('experiment_1.h5')\n",
    "mcnp_eff3 = osb.ResultsFromDatabase('mcnp_eff3_1.h5')\n",
    "mcnp_fendl1 = osb.ResultsFromDatabase('mcnp_fendl1_1.h5')\n",
    "mcnp_fendl2 = osb.ResultsFromDatabase('mcnp_fendl2_1.h5')"
   ]
  },
  {
   "cell_type": "code",
   "execution_count": 5,
   "metadata": {},
   "outputs": [],
   "source": [
    "os.chdir('..')"
   ]
  },
  {
   "cell_type": "code",
   "execution_count": null,
   "metadata": {},
   "outputs": [],
   "source": [
    "measured = experiment.get_tally(f'rr_onaxis1_nb93')"
   ]
  },
  {
   "cell_type": "code",
   "execution_count": 6,
   "metadata": {},
   "outputs": [
    {
     "ename": "AttributeError",
     "evalue": "'NoneType' object has no attribute 'loc'",
     "output_type": "error",
     "traceback": [
      "\u001b[0;31m---------------------------------------------------------------------------\u001b[0m",
      "\u001b[0;31mAttributeError\u001b[0m                            Traceback (most recent call last)",
      "\u001b[1;32m/home/segantin/openmc_models/models/openmc_sinbad_benchmarks_REWORK/openmc_sinbad_benchmarks/models/fng_str/postprocessing_v2.ipynb Cell 6\u001b[0m line \u001b[0;36m1\n\u001b[1;32m     <a href='vscode-notebook-cell://wsl%2Bubuntu/home/segantin/openmc_models/models/openmc_sinbad_benchmarks_REWORK/openmc_sinbad_benchmarks/models/fng_str/postprocessing_v2.ipynb#W5sdnNjb2RlLXJlbW90ZQ%3D%3D?line=16'>17</a>\u001b[0m \u001b[39m# read openmc results from its statepoint file\u001b[39;00m\n\u001b[1;32m     <a href='vscode-notebook-cell://wsl%2Bubuntu/home/segantin/openmc_models/models/openmc_sinbad_benchmarks_REWORK/openmc_sinbad_benchmarks/models/fng_str/postprocessing_v2.ipynb#W5sdnNjb2RlLXJlbW90ZQ%3D%3D?line=17'>18</a>\u001b[0m openmc_1 \u001b[39m=\u001b[39m helpers\u001b[39m.\u001b[39mget_openmc_tally(\u001b[39m'\u001b[39m\u001b[39mreaction_rates_onaxis\u001b[39m\u001b[39m'\u001b[39m, \u001b[39m'\u001b[39m\u001b[39mstatepoint.100.h5\u001b[39m\u001b[39m'\u001b[39m, \u001b[39mf\u001b[39m\u001b[39m'\u001b[39m\u001b[39m{\u001b[39;00mfoil\u001b[39m}\u001b[39;00m\u001b[39m_irdff_rr\u001b[39m\u001b[39m'\u001b[39m)\n\u001b[0;32m---> <a href='vscode-notebook-cell://wsl%2Bubuntu/home/segantin/openmc_models/models/openmc_sinbad_benchmarks_REWORK/openmc_sinbad_benchmarks/models/fng_str/postprocessing_v2.ipynb#W5sdnNjb2RlLXJlbW90ZQ%3D%3D?line=18'>19</a>\u001b[0m openmc_1 \u001b[39m=\u001b[39m helpers\u001b[39m.\u001b[39;49mpostprocess_openmc_foils(openmc_1, \u001b[39m'\u001b[39;49m\u001b[39monaxis_group1\u001b[39;49m\u001b[39m'\u001b[39;49m)\n\u001b[1;32m     <a href='vscode-notebook-cell://wsl%2Bubuntu/home/segantin/openmc_models/models/openmc_sinbad_benchmarks_REWORK/openmc_sinbad_benchmarks/models/fng_str/postprocessing_v2.ipynb#W5sdnNjb2RlLXJlbW90ZQ%3D%3D?line=20'>21</a>\u001b[0m \u001b[39m# plot\u001b[39;00m\n\u001b[1;32m     <a href='vscode-notebook-cell://wsl%2Bubuntu/home/segantin/openmc_models/models/openmc_sinbad_benchmarks_REWORK/openmc_sinbad_benchmarks/models/fng_str/postprocessing_v2.ipynb#W5sdnNjb2RlLXJlbW90ZQ%3D%3D?line=21'>22</a>\u001b[0m dtype_label \u001b[39m=\u001b[39m reaction_labels[i]\n",
      "File \u001b[0;32m~/openmc_models/models/openmc_sinbad_benchmarks_REWORK/openmc_sinbad_benchmarks/models/fng_str/helpers.py:249\u001b[0m, in \u001b[0;36mpostprocess_openmc_foils\u001b[0;34m(tally_dataframe, foil_group)\u001b[0m\n\u001b[1;32m    246\u001b[0m \u001b[39mif\u001b[39;00m foil_group \u001b[39mnot\u001b[39;00m \u001b[39min\u001b[39;00m _groups:\n\u001b[1;32m    247\u001b[0m     \u001b[39mraise\u001b[39;00m \u001b[39mValueError\u001b[39;00m(\u001b[39m\"\u001b[39m\u001b[39mInvalid foil_group. Expected one of: \u001b[39m\u001b[39m%s\u001b[39;00m\u001b[39m\"\u001b[39m \u001b[39m%\u001b[39m _groups)\n\u001b[0;32m--> 249\u001b[0m df \u001b[39m=\u001b[39m tally_dataframe\u001b[39m.\u001b[39;49mloc[(tally_dataframe[\u001b[39m'\u001b[39m\u001b[39mparticle\u001b[39m\u001b[39m'\u001b[39m] \u001b[39m==\u001b[39m \u001b[39m'\u001b[39m\u001b[39mneutron\u001b[39m\u001b[39m'\u001b[39m)]\n\u001b[1;32m    251\u001b[0m \u001b[39mif\u001b[39;00m foil_group \u001b[39m==\u001b[39m _groups[\u001b[39m0\u001b[39m]:\n\u001b[1;32m    252\u001b[0m     df \u001b[39m=\u001b[39m df[df[\u001b[39m'\u001b[39m\u001b[39mcell\u001b[39m\u001b[39m'\u001b[39m]\u001b[39m.\u001b[39misin(_cells_group1)]\n",
      "\u001b[0;31mAttributeError\u001b[0m: 'NoneType' object has no attribute 'loc'"
     ]
    }
   ],
   "source": [
    "# initialization\n",
    "foil_list = ['nb93', 'al27', 'ni58', 'au197']\n",
    "reaction_labels = ['$^{93}$Nb(n,2n)$^{92m}$Nb', '$^{27}$Al(n,\\u03B1)$^{24}$Na', '$^{58}$Ni(n,p)$^{58}$Co', '$^{197}$Au(n,\\u03B3)$^{198}$Au']\n",
    "ylabel = r'Reaction Rate $(\\frac{1}{src \\cdot atom})$'\n",
    "\n",
    "for i,foil in enumerate(foil_list):\n",
    "\n",
    "    measured = experiment.get_tally(f'rr_onaxis1_{foil}')\n",
    "    mcnp_eff3 = mcnp_eff3.get_tally(f'rr_onaxis1_{foil}')\n",
    "    mcnp_fendl1 = mcnp_fendl1.get_tally(f'rr_onaxis1_{foil}')\n",
    "\n",
    "    try:\n",
    "        mcnp_fendl2 = mcnp_fendl2.get_tally(f'rr_onaxis1_{foil}')\n",
    "    except:\n",
    "        mcnp_fendl2 = None\n",
    "\n",
    "    # read openmc results from its statepoint file\n",
    "    openmc_1 = helpers.get_openmc_tally('reaction_rates_onaxis', 'statepoint.100.h5', f'{foil}_irdff_rr')\n",
    "    openmc_1 = helpers.postprocess_openmc_foils(openmc_1, 'onaxis_group1')\n",
    "\n",
    "    # plot\n",
    "    dtype_label = reaction_labels[i]\n",
    "    foils_onaxis_group1 = helpers.VisualizeResults()  # the plot has always to be initialized like this\n",
    "    foils_onaxis_group1.add_measured_data(measured, ylabel, dtype_label)  # measured data have always to be plotted\n",
    "    foils_onaxis_group1.add_computed_data(mcnp_eff3, 'd', 'tab:green', 'mcnp-eff3')  # one can add as many computed data as preferred\n",
    "    foils_onaxis_group1.add_computed_data(mcnp_fendl1, 'o', 'c', 'mcnp-fendl1')\n",
    "    foils_onaxis_group1.add_computed_data(mcnp_fendl2, '^', 'tab:pink', 'mcnp-fendl2')\n",
    "    foils_onaxis_group1.add_computed_data(openmc_1, 'x', 'crimson', 'openmc')"
   ]
  },
  {
   "cell_type": "code",
   "execution_count": null,
   "metadata": {},
   "outputs": [],
   "source": []
  }
 ],
 "metadata": {
  "kernelspec": {
   "display_name": "baby_neutronics",
   "language": "python",
   "name": "python3"
  },
  "language_info": {
   "codemirror_mode": {
    "name": "ipython",
    "version": 3
   },
   "file_extension": ".py",
   "mimetype": "text/x-python",
   "name": "python",
   "nbconvert_exporter": "python",
   "pygments_lexer": "ipython3",
   "version": "3.9.17"
  },
  "orig_nbformat": 4
 },
 "nbformat": 4,
 "nbformat_minor": 2
}
