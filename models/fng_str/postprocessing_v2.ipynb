{
 "cells": [
  {
   "cell_type": "code",
   "execution_count": 1,
   "metadata": {},
   "outputs": [],
   "source": [
    "import openmc_sinbad_benchmarks as osb\n",
    "import os\n",
    "import helpers\n",
    "import matplotlib.pyplot as plt\n",
    "import numpy as np\n",
    "import math"
   ]
  },
  {
   "cell_type": "code",
   "execution_count": 2,
   "metadata": {},
   "outputs": [],
   "source": [
    "cwd = os.getcwd()"
   ]
  },
  {
   "cell_type": "code",
   "execution_count": 3,
   "metadata": {},
   "outputs": [],
   "source": [
    "# read sinbad data\n",
    "experiment_file = osb.ResultsFromDatabase('experiment_1.h5')\n",
    "mcnp_eff3_file = osb.ResultsFromDatabase('mcnp_eff3_1.h5')\n",
    "mcnp_fendl1_file = osb.ResultsFromDatabase('mcnp_fendl1_1.h5')\n",
    "mcnp_fendl2_file = osb.ResultsFromDatabase('mcnp_fendl2_1.h5')"
   ]
  },
  {
   "cell_type": "code",
   "execution_count": 4,
   "metadata": {},
   "outputs": [],
   "source": [
    "# read openmc results\n",
    "openmc_onaxis1 = osb.ResultsFromOpenmc('statepoint.100.h5', 'reaction_rates_onaxis')\n",
    "openmc_onaxis2 = osb.ResultsFromOpenmc('statepoint.100.h5', 'reaction_rates_onaxis')\n",
    "openmc_offaxis = osb.ResultsFromOpenmc('statepoint.100.h5', 'reaction_rates_offaxis')\n",
    "openmc_heating = osb.ResultsFromOpenmc('statepoint.100.h5', 'heating')"
   ]
  },
  {
   "cell_type": "code",
   "execution_count": 7,
   "metadata": {},
   "outputs": [
    {
     "ename": "SyntaxError",
     "evalue": "invalid syntax (2043237604.py, line 41)",
     "output_type": "error",
     "traceback": [
      "\u001b[0;36m  Cell \u001b[0;32mIn[7], line 41\u001b[0;36m\u001b[0m\n\u001b[0;31m    ax2.\u001b[0m\n\u001b[0m        ^\u001b[0m\n\u001b[0;31mSyntaxError\u001b[0m\u001b[0;31m:\u001b[0m invalid syntax\n"
     ]
    }
   ],
   "source": [
    "# initialization\n",
    "foil_list = ['nb93', 'al27', 'ni58', 'au197']\n",
    "reaction_labels = ['$^{93}$Nb(n,2n)$^{92m}$Nb', '$^{27}$Al(n,\\u03B1)$^{24}$Na', '$^{58}$Ni(n,p)$^{58}$Co', '$^{197}$Au(n,\\u03B3)$^{198}$Au']\n",
    "ylabel = r'Reaction Rate $(\\frac{1}{src \\cdot atom})$'\n",
    "\n",
    "for i,foil in enumerate(foil_list):\n",
    "\n",
    "    xaxis_label = experiment_file.get_tally_xaxis(f'rr_onaxis1_{foil}')\n",
    "\n",
    "    measured = experiment_file.get_tally_dataframe(f'rr_onaxis1_{foil}')\n",
    "    mcnp_eff3 = mcnp_eff3_file.get_tally_dataframe(f'rr_onaxis1_{foil}')\n",
    "    mcnp_fendl1 = mcnp_fendl1_file.get_tally_dataframe(f'rr_onaxis1_{foil}')\n",
    "\n",
    "    try:\n",
    "        mcnp_fendl2 = mcnp_fendl2_file.get_tally(f'rr_onaxis1_{foil}')\n",
    "    except:\n",
    "        mcnp_fendl2 = None\n",
    "\n",
    "    \n",
    "    # # read openmc results from its statepoint file\n",
    "    # openmc_1 = helpers.get_openmc_tally('reaction_rates_onaxis', 'statepoint.100.h5', f'{foil}_irdff_rr')\n",
    "    # openmc_1 = helpers.postprocess_openmc_foils(openmc_1, 'onaxis_group1')\n",
    "    # openmc_1 = openmc_onaxis1.get_tally_dataframe(f'{foil}_irdff_rr')\n",
    "    \n",
    "    # plot\n",
    "    dtype_label = reaction_labels[i]\n",
    "\n",
    "    fig, (ax1,ax2) = plt.subplots(nrows=2, ncols=1, figsize=(6, 5), gridspec_kw={'height_ratios': [2, 1.25]}, constrained_layout=True)\n",
    "    ax1.plot(measured)\n",
    "    ax1.errorbar(mcnp_eff3)\n",
    "    ax1.errorbar(mcnp_fendl1)\n",
    "    ax1.errorbar(mcnp_fendl2)\n",
    "    ax1.errorbar(openmc)\n",
    "\n",
    "    ax1.floor_ceiling([measured, mcnp_fendl1, mcnp_fendl2])  # FUNCTION IN HELPERS/VISUALIZE\n",
    "    ax1.set_xticks(self.tickers), ax1.tick_params(axis='x', labelbottom=False), ax1.tick_params(axis='both', which='both', direction='in')\n",
    "    ax1.set_ylabel(ylabel, fontsize=12)\n",
    "    ax1.legend()\n",
    "    #\n",
    "    ax2.3_sigma_area()  # FUNCTION IN HELPERS/VISUALIZE\n",
    "    ax2.errorbar(mcnp_eff3)\n",
    "    ax2.errorbar(mcnp_fendl1)\n",
    "    ax2.errorbar(mcnp_fendl2)\n",
    "    ax2.hlines(1.0, -1, 20, colors='k', linestyles='-',\n",
    "                        linewidth=1, label='_nolegend_')\n",
    "    ax2.set_xlim([-0.5, self.tickers[-1] + .6])\n",
    "    ax2.set_ylim([0.5, 1.5])\n",
    "    ax2.set_xticks(self.tickers)\n",
    "    ax2.set_xticklabels(my_xlabels)\n",
    "    ax2.tick_params(axis='x', labelrotation=45)\n",
    "    ax2.tick_params(axis='both', which='both', direction='in')\n",
    "    ax2.set_xlabel('Position (cm)', fontsize=12)\n",
    "    ax2.set_ylabel('C/E', fontsize=12)\n",
    "    ax2.annotate(dtype_label, [0.02, 0.07], xycoords='axes fraction',\n",
    "                        horizontalalignment='left', verticalalignment='bottom', fontsize=12)"
   ]
  },
  {
   "cell_type": "code",
   "execution_count": null,
   "metadata": {},
   "outputs": [],
   "source": []
  }
 ],
 "metadata": {
  "kernelspec": {
   "display_name": "baby_neutronics",
   "language": "python",
   "name": "python3"
  },
  "language_info": {
   "codemirror_mode": {
    "name": "ipython",
    "version": 3
   },
   "file_extension": ".py",
   "mimetype": "text/x-python",
   "name": "python",
   "nbconvert_exporter": "python",
   "pygments_lexer": "ipython3",
   "version": "3.9.17"
  },
  "orig_nbformat": 4
 },
 "nbformat": 4,
 "nbformat_minor": 2
}
