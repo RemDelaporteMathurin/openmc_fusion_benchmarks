{
 "cells": [
  {
   "cell_type": "code",
   "execution_count": 1,
   "metadata": {},
   "outputs": [],
   "source": [
    "import openmc_sinbad_benchmarks as osb\n",
    "import os\n",
    "import helpers\n",
    "import matplotlib.pyplot as plt\n",
    "import numpy as np\n",
    "import math"
   ]
  },
  {
   "cell_type": "code",
   "execution_count": 2,
   "metadata": {},
   "outputs": [],
   "source": [
    "cwd = os.getcwd()"
   ]
  },
  {
   "cell_type": "code",
   "execution_count": 3,
   "metadata": {},
   "outputs": [],
   "source": [
    "# read sinbad data\n",
    "experiment_file = osb.ResultsFromDatabase('experiment_1.h5')\n",
    "mcnp_eff3_file = osb.ResultsFromDatabase('mcnp_eff3_1.h5')\n",
    "mcnp_fendl1_file = osb.ResultsFromDatabase('mcnp_fendl1_1.h5')\n",
    "mcnp_fendl2_file = osb.ResultsFromDatabase('mcnp_fendl2_1.h5')"
   ]
  },
  {
   "cell_type": "code",
   "execution_count": 4,
   "metadata": {},
   "outputs": [],
   "source": [
    "# read openmc files\n",
    "openmc_onaxis1 = osb.ResultsFromOpenmc('statepoint.100.h5', 'reaction_rates_onaxis')\n",
    "openmc_onaxis2 = osb.ResultsFromOpenmc('statepoint.100.h5', 'reaction_rates_onaxis')\n",
    "openmc_offaxis = osb.ResultsFromOpenmc('statepoint.100.h5', 'reaction_rates_offaxis')\n",
    "openmc_heating = osb.ResultsFromOpenmc('statepoint.100.h5', 'heating')"
   ]
  },
  {
   "cell_type": "code",
   "execution_count": 5,
   "metadata": {},
   "outputs": [
    {
     "ename": "LookupError",
     "evalue": "Unable to get Tally",
     "output_type": "error",
     "traceback": [
      "\u001b[0;31m---------------------------------------------------------------------------\u001b[0m",
      "\u001b[0;31mLookupError\u001b[0m                               Traceback (most recent call last)",
      "\u001b[1;32m/home/segantin/openmc_models/models/openmc_sinbad_benchmarks_REWORK/openmc_sinbad_benchmarks/models/fng_str/postprocessing_v2.ipynb Cell 5\u001b[0m line \u001b[0;36m2\n\u001b[1;32m     <a href='vscode-notebook-cell://wsl%2Bubuntu/home/segantin/openmc_models/models/openmc_sinbad_benchmarks_REWORK/openmc_sinbad_benchmarks/models/fng_str/postprocessing_v2.ipynb#W5sdnNjb2RlLXJlbW90ZQ%3D%3D?line=16'>17</a>\u001b[0m     mcnp_fendl2 \u001b[39m=\u001b[39m \u001b[39mNone\u001b[39;00m\n\u001b[1;32m     <a href='vscode-notebook-cell://wsl%2Bubuntu/home/segantin/openmc_models/models/openmc_sinbad_benchmarks_REWORK/openmc_sinbad_benchmarks/models/fng_str/postprocessing_v2.ipynb#W5sdnNjb2RlLXJlbW90ZQ%3D%3D?line=19'>20</a>\u001b[0m \u001b[39m# # read openmc results from its statepoint file\u001b[39;00m\n\u001b[1;32m     <a href='vscode-notebook-cell://wsl%2Bubuntu/home/segantin/openmc_models/models/openmc_sinbad_benchmarks_REWORK/openmc_sinbad_benchmarks/models/fng_str/postprocessing_v2.ipynb#W5sdnNjb2RlLXJlbW90ZQ%3D%3D?line=20'>21</a>\u001b[0m \u001b[39m# openmc_1 = helpers.get_openmc_tally('reaction_rates_onaxis', 'statepoint.100.h5', f'{foil}_irdff_rr')\u001b[39;00m\n\u001b[1;32m     <a href='vscode-notebook-cell://wsl%2Bubuntu/home/segantin/openmc_models/models/openmc_sinbad_benchmarks_REWORK/openmc_sinbad_benchmarks/models/fng_str/postprocessing_v2.ipynb#W5sdnNjb2RlLXJlbW90ZQ%3D%3D?line=21'>22</a>\u001b[0m \u001b[39m# openmc_1 = helpers.postprocess_openmc_foils(openmc_1, 'onaxis_group1')\u001b[39;00m\n\u001b[0;32m---> <a href='vscode-notebook-cell://wsl%2Bubuntu/home/segantin/openmc_models/models/openmc_sinbad_benchmarks_REWORK/openmc_sinbad_benchmarks/models/fng_str/postprocessing_v2.ipynb#W5sdnNjb2RlLXJlbW90ZQ%3D%3D?line=22'>23</a>\u001b[0m openmc_1 \u001b[39m=\u001b[39m openmc_onaxis1\u001b[39m.\u001b[39;49mget_tally_dataframe(\u001b[39mf\u001b[39;49m\u001b[39m'\u001b[39;49m\u001b[39m{\u001b[39;49;00mfoil\u001b[39m}\u001b[39;49;00m\u001b[39m_irdff_rr\u001b[39;49m\u001b[39m'\u001b[39;49m)\n\u001b[1;32m     <a href='vscode-notebook-cell://wsl%2Bubuntu/home/segantin/openmc_models/models/openmc_sinbad_benchmarks_REWORK/openmc_sinbad_benchmarks/models/fng_str/postprocessing_v2.ipynb#W5sdnNjb2RlLXJlbW90ZQ%3D%3D?line=24'>25</a>\u001b[0m \u001b[39m# plot\u001b[39;00m\n\u001b[1;32m     <a href='vscode-notebook-cell://wsl%2Bubuntu/home/segantin/openmc_models/models/openmc_sinbad_benchmarks_REWORK/openmc_sinbad_benchmarks/models/fng_str/postprocessing_v2.ipynb#W5sdnNjb2RlLXJlbW90ZQ%3D%3D?line=25'>26</a>\u001b[0m dtype_label \u001b[39m=\u001b[39m reaction_labels[i]\n",
      "File \u001b[0;32m~/openmc_models/models/openmc_sinbad_benchmarks_REWORK/openmc_sinbad_benchmarks/src/openmc_sinbad_benchmarks/from_openmc.py:14\u001b[0m, in \u001b[0;36mResultsFromOpenmc.get_tally_dataframe\u001b[0;34m(self, tally_name)\u001b[0m\n\u001b[1;32m     13\u001b[0m \u001b[39mdef\u001b[39;00m \u001b[39mget_tally_dataframe\u001b[39m(\u001b[39mself\u001b[39m, tally_name):\n\u001b[0;32m---> 14\u001b[0m     \u001b[39mreturn\u001b[39;00m openmc\u001b[39m.\u001b[39;49mStatePoint(\u001b[39mself\u001b[39;49m\u001b[39m.\u001b[39;49mmyfile)\u001b[39m.\u001b[39;49mget_tally(tally_name)\u001b[39m.\u001b[39mget_pandas_dataframe()\n",
      "File \u001b[0;32m~/miniconda3/envs/baby_neutronics/lib/python3.9/site-packages/openmc/statepoint.py:639\u001b[0m, in \u001b[0;36mStatePoint.get_tally\u001b[0;34m(self, scores, filters, nuclides, name, id, estimator, exact_filters, exact_nuclides, exact_scores)\u001b[0m\n\u001b[1;32m    637\u001b[0m \u001b[39m# If we did not find the Tally, return an error message\u001b[39;00m\n\u001b[1;32m    638\u001b[0m \u001b[39mif\u001b[39;00m tally \u001b[39mis\u001b[39;00m \u001b[39mNone\u001b[39;00m:\n\u001b[0;32m--> 639\u001b[0m     \u001b[39mraise\u001b[39;00m \u001b[39mLookupError\u001b[39;00m(\u001b[39m'\u001b[39m\u001b[39mUnable to get Tally\u001b[39m\u001b[39m'\u001b[39m)\n\u001b[1;32m    641\u001b[0m \u001b[39mreturn\u001b[39;00m tally\n",
      "\u001b[0;31mLookupError\u001b[0m: Unable to get Tally"
     ]
    }
   ],
   "source": [
    "# initialization\n",
    "foil_list = ['nb93', 'al27', 'ni58', 'au197']\n",
    "reaction_labels = ['$^{93}$Nb(n,2n)$^{92m}$Nb', '$^{27}$Al(n,\\u03B1)$^{24}$Na', '$^{58}$Ni(n,p)$^{58}$Co', '$^{197}$Au(n,\\u03B3)$^{198}$Au']\n",
    "ylabel = r'Reaction Rate $(\\frac{1}{src \\cdot atom})$'\n",
    "\n",
    "for i,foil in enumerate(foil_list):\n",
    "\n",
    "    xaxis_label = experiment_file.get_tally_xaxis(f'rr_onaxis1_{foil}')\n",
    "\n",
    "    measured = experiment_file.get_tally_dataframe(f'rr_onaxis1_{foil}')\n",
    "    mcnp_eff3 = mcnp_eff3_file.get_tally_dataframe(f'rr_onaxis1_{foil}')\n",
    "    mcnp_fendl1 = mcnp_fendl1_file.get_tally_dataframe(f'rr_onaxis1_{foil}')\n",
    "\n",
    "    try:\n",
    "        mcnp_fendl2 = mcnp_fendl2_file.get_tally(f'rr_onaxis1_{foil}')\n",
    "    except:\n",
    "        mcnp_fendl2 = None\n",
    "\n",
    "    \n",
    "    # # read openmc results from its statepoint file\n",
    "    # openmc_1 = helpers.get_openmc_tally('reaction_rates_onaxis', 'statepoint.100.h5', f'{foil}_irdff_rr')\n",
    "    # openmc_1 = helpers.postprocess_openmc_foils(openmc_1, 'onaxis_group1')\n",
    "    # openmc_1 = openmc_onaxis1.get_tally_dataframe(f'{foil}_irdff_rr')\n",
    "    \n",
    "    # plot\n",
    "    dtype_label = reaction_labels[i]\n",
    "    foils_onaxis_group1 = helpers.VisualizeResults()  # the plot has always to be initialized like this\n",
    "    foils_onaxis_group1.add_measured_data(measured, xaxis_label, ylabel, dtype_label)  # measured data have always to be plotted\n",
    "    foils_onaxis_group1.add_computed_data(mcnp_eff3, 'd', 'tab:green', 'mcnp-eff3')  # one can add as many computed data as preferred\n",
    "    foils_onaxis_group1.add_computed_data(mcnp_fendl1, 'o', 'c', 'mcnp-fendl1')\n",
    "    foils_onaxis_group1.add_computed_data(mcnp_fendl2, '^', 'tab:pink', 'mcnp-fendl2')\n",
    "    # foils_onaxis_group1.add_computed_data(openmc_1, 'x', 'crimson', 'openmc')"
   ]
  },
  {
   "cell_type": "code",
   "execution_count": null,
   "metadata": {},
   "outputs": [],
   "source": []
  }
 ],
 "metadata": {
  "kernelspec": {
   "display_name": "baby_neutronics",
   "language": "python",
   "name": "python3"
  },
  "language_info": {
   "codemirror_mode": {
    "name": "ipython",
    "version": 3
   },
   "file_extension": ".py",
   "mimetype": "text/x-python",
   "name": "python",
   "nbconvert_exporter": "python",
   "pygments_lexer": "ipython3",
   "version": "3.9.17"
  },
  "orig_nbformat": 4
 },
 "nbformat": 4,
 "nbformat_minor": 2
}
