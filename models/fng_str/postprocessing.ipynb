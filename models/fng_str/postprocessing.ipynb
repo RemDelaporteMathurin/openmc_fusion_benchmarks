{
 "cells": [
  {
   "cell_type": "code",
   "execution_count": null,
   "metadata": {},
   "outputs": [],
   "source": [
    "import h5py\n",
    "from helpers import *"
   ]
  },
  {
   "cell_type": "code",
   "execution_count": null,
   "metadata": {},
   "outputs": [],
   "source": [
    "# read sinbad data\n",
    "sinbad_file = h5py.File('sinbad_data.h5', 'r')"
   ]
  },
  {
   "cell_type": "code",
   "execution_count": null,
   "metadata": {},
   "outputs": [],
   "source": [
    "# initialization\n",
    "path = 'reaction_rates_onaxis/group_1/'\n",
    "foil_list = ['nb93', 'al27', 'ni58', 'au197']\n",
    "reaction_labels = ['$^{93}$Nb(n,2n)$^{92m}$Nb', '$^{27}$Al(n,\\u03B1)$^{24}$Na', '$^{58}$Ni(n,p)$^{58}$Co', '$^{197}$Au(n,\\u03B3)$^{198}$Au']\n",
    "ylabel = r'Reaction Rate $(\\frac{1}{src \\cdot atom})$'\n",
    "\n",
    "for i,foil in enumerate(foil_list):\n",
    "    measured = sinbad_file[path + f'measured/{foil}/table']\n",
    "    mcnp_eff3 = sinbad_file[path + f'mcnp-eff3/{foil}/table']\n",
    "    mcnp_fendl1 = sinbad_file[path + f'mcnp-fendl1/{foil}/table']\n",
    "    try:\n",
    "        mcnp_fendl2 = sinbad_file[path + f'mcnp-fendl2/{foil}/table']\n",
    "    except:\n",
    "        mcnp_fendl2 = None\n",
    "\n",
    "    # read openmc results from its statepoint file\n",
    "    openmc_1 = get_openmc_tally('reaction_rates_onaxis', 'statepoint.100.h5', f'{foil}_irdff_rr')\n",
    "    openmc_1 = postprocess_openmc_foils(openmc_1, 'onaxis_group1')\n",
    "\n",
    "    # plot\n",
    "    dtype_label = reaction_labels[i]\n",
    "    foils_onaxis_group1 = VisualizeResults()  # the plot has always to be initialized like this\n",
    "    foils_onaxis_group1.add_measured_data(measured, ylabel, dtype_label)  # measured data have always to be plotted\n",
    "    foils_onaxis_group1.add_computed_data(mcnp_eff3, 'd', 'tab:green', 'mcnp-eff3')  # one can add as many computed data as preferred\n",
    "    foils_onaxis_group1.add_computed_data(mcnp_fendl1, 'o', 'c', 'mcnp-fendl1')\n",
    "    foils_onaxis_group1.add_computed_data(mcnp_fendl2, '^', 'tab:pink', 'mcnp-fendl2')\n",
    "    foils_onaxis_group1.add_computed_data(openmc_1, 'x', 'crimson', 'openmc')"
   ]
  },
  {
   "cell_type": "code",
   "execution_count": null,
   "metadata": {},
   "outputs": [],
   "source": [
    "# initialization\n",
    "path = 'reaction_rates_onaxis/group_2/'\n",
    "foil_list = ['nb93', 'al27', 'ni58', 'au197']\n",
    "reaction_labels = ['$^{93}$Nb(n,2n)$^{92m}$Nb', '$^{27}$Al(n,\\u03B1)$^{24}$Na', '$^{58}$Ni(n,p)$^{58}$Co', '$^{197}$Au(n,\\u03B3)$^{198}$Au']\n",
    "ylabel = r'Reaction Rate $(\\frac{1}{src \\cdot atom})$'\n",
    "\n",
    "for i,foil in enumerate(foil_list):\n",
    "    measured = sinbad_file[path + f'measured/{foil}/table']\n",
    "    mcnp_eff3 = sinbad_file[path + f'mcnp-eff3/{foil}/table']\n",
    "    mcnp_fendl1 = sinbad_file[path + f'mcnp-fendl1/{foil}/table']\n",
    "    try:\n",
    "        mcnp_fendl2 = sinbad_file[path + f'mcnp-fendl2/{foil}/table']\n",
    "    except:\n",
    "        mcnp_fendl2 = None\n",
    "\n",
    "    # read openmc results from its statepoint file\n",
    "    openmc_1 = get_openmc_tally('reaction_rates_onaxis', 'statepoint.100.h5', f'{foil}_irdff_rr')\n",
    "    openmc_1 = postprocess_openmc_foils(openmc_1, 'onaxis_group2')\n",
    "    \n",
    "    # plot\n",
    "    dtype_label = reaction_labels[i]\n",
    "    foils_onaxis_group2 = VisualizeResults()  # the plot has always to be initialized like this\n",
    "    foils_onaxis_group2.add_measured_data(measured, ylabel, dtype_label)  # measured data have always to be plotted\n",
    "    foils_onaxis_group2.add_computed_data(mcnp_eff3, 'd', 'tab:green', 'mcnp-eff3')  # one can add as many computed data as preferred\n",
    "    foils_onaxis_group2.add_computed_data(mcnp_fendl1, 'o', 'c', 'mcnp-fendl1')\n",
    "    foils_onaxis_group2.add_computed_data(mcnp_fendl2, '^', 'tab:pink', 'mcnp-fendl2')\n",
    "    foils_onaxis_group2.add_computed_data(openmc_1, 'x', 'crimson', 'openmc')"
   ]
  },
  {
   "cell_type": "code",
   "execution_count": null,
   "metadata": {},
   "outputs": [],
   "source": [
    "# initialization\n",
    "path = 'reaction_rates_offaxis/'\n",
    "foil_list = ['nb93', 'al27', 'ni58', 'au197']\n",
    "reaction_labels = ['$^{93}$Nb(n,2n)$^{92m}$Nb', '$^{27}$Al(n,\\u03B1)$^{24}$Na', '$^{58}$Ni(n,p)$^{58}$Co', '$^{197}$Au(n,\\u03B3)$^{198}$Au']\n",
    "ylabel = r'Reaction Rate $(\\frac{1}{src \\cdot atom})$'\n",
    "\n",
    "for i,foil in enumerate(foil_list):\n",
    "\n",
    "    # read measured and mcnp results from sinbad file\n",
    "    measured = sinbad_file[path + f'measured/{foil}/table']\n",
    "    mcnp_eff3 = sinbad_file[path + f'mcnp-eff3/{foil}/table']\n",
    "    mcnp_fendl1 = sinbad_file[path + f'mcnp-fendl1/{foil}/table']\n",
    "    try:\n",
    "        mcnp_fendl2 = sinbad_file[path + f'mcnp-fendl2/{foil}/table']\n",
    "    except:\n",
    "        mcnp_fendl2 = None\n",
    "\n",
    "    # read openmc results from its statepoint file\n",
    "    openmc_1 = get_openmc_tally('reaction_rates_offaxis', 'statepoint.100.h5', f'{foil}_irdff_rr')\n",
    "    openmc_1 = postprocess_openmc_foils(openmc_1, 'offaxis')\n",
    "    \n",
    "    # plot\n",
    "    dtype_label = reaction_labels[i]\n",
    "    foils_offaxis = VisualizeResults()  # the plot has always to be initialized like this\n",
    "    foils_offaxis.add_measured_data(measured, ylabel, dtype_label)  # measured data have always to be plotted\n",
    "    foils_offaxis.add_computed_data(mcnp_eff3, 'd', 'tab:green', 'mcnp-eff3')  # one can add as many computed data as preferred\n",
    "    foils_offaxis.add_computed_data(mcnp_fendl1, 'o', 'c', 'mcnp-fendl1')\n",
    "    foils_offaxis.add_computed_data(mcnp_fendl2, '^', 'tab:pink', 'mcnp-fendl2')\n",
    "    foils_offaxis.add_computed_data(openmc_1, 'x', 'crimson', 'openmc')"
   ]
  },
  {
   "cell_type": "code",
   "execution_count": null,
   "metadata": {},
   "outputs": [],
   "source": [
    "# initialization\n",
    "path = 'heating/'\n",
    "ylabel = r'Nuclear Heating $(\\frac{Gy}{src})$'\n",
    "\n",
    "measured = sinbad_file[path + f'measured/table']\n",
    "mcnp_eff3 = sinbad_file[path + f'mcnp-eff3/table']\n",
    "mcnp_fendl1 = sinbad_file[path + f'mcnp-fendl1/table']\n",
    "mcnp_fendl2 = sinbad_file[path + f'mcnp-fendl2/table']\n",
    "\n",
    "qtld_coeffs = sinbad_file['heating/qtld_coefficients/table']\n",
    "openmc_1 = get_openmc_tally('heating', 'statepoint.100.h5', 'heating_dose')\n",
    "openmc_1 = postprocess_openmc_heating(openmc_1, qtld_coeffs)\n",
    "\n",
    "nuclear_heating = VisualizeResults()  # the plot has always to be initialized like this\n",
    "nuclear_heating.add_measured_data(measured, ylabel, dtype_label='')  # measured data have always to be plotted\n",
    "nuclear_heating.add_computed_data(mcnp_eff3, 'd', 'tab:green', 'mcnp-eff3')  # one can add as many computed data as preferred\n",
    "nuclear_heating.add_computed_data(mcnp_fendl1, 'o', 'c', 'mcnp-fendl1')\n",
    "nuclear_heating.add_computed_data(mcnp_fendl2, '^', 'tab:pink', 'mcnp-fendl2')\n",
    "nuclear_heating.add_computed_data(openmc_1, 'x', 'crimson', 'openmc')"
   ]
  },
  {
   "cell_type": "code",
   "execution_count": null,
   "metadata": {},
   "outputs": [],
   "source": []
  }
 ],
 "metadata": {
  "kernelspec": {
   "display_name": "openmc_env",
   "language": "python",
   "name": "python3"
  },
  "language_info": {
   "codemirror_mode": {
    "name": "ipython",
    "version": 3
   },
   "file_extension": ".py",
   "mimetype": "text/x-python",
   "name": "python",
   "nbconvert_exporter": "python",
   "pygments_lexer": "ipython3",
   "version": "3.8.10"
  },
  "orig_nbformat": 4
 },
 "nbformat": 4,
 "nbformat_minor": 2
}
