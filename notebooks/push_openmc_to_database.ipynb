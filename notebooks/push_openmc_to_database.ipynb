{
 "cells": [
  {
   "cell_type": "markdown",
   "metadata": {},
   "source": [
    "# Read HDF files from results database\n",
    "This notebook shows how to read, visualize and process openmc results. In addition, it shows how to store them in an HDF file for the `\\results_database\\` folder of a given benchmark. To do that we will take advantage of the `\\example results\\` and `\\example_database\\` folders. In the former we stored an example openmc `statepoint` file (`example_statepoint.100.h5`) to read. In the latter we will store our new `my_openmc_results.h5` file with the results rearranged consistently with the other HDF files already present in the `\\results_database\\` folders."
   ]
  },
  {
   "cell_type": "code",
   "execution_count": 1,
   "metadata": {},
   "outputs": [],
   "source": [
    "import openmc_sinbad_benchmarks as osb\n",
    "import numpy as np"
   ]
  },
  {
   "cell_type": "markdown",
   "metadata": {},
   "source": [
    "Read openmc `statepoint` file:"
   ]
  },
  {
   "cell_type": "code",
   "execution_count": 2,
   "metadata": {},
   "outputs": [],
   "source": [
    "openmc_results = osb.ResultsFromOpenmc(statepoint_file='example_statepoint.100.h5', path='example_results')"
   ]
  },
  {
   "cell_type": "markdown",
   "metadata": {},
   "source": [
    "Unfortunately we need a bit of postoprocessing before storing them in a new HDF file. Most likely we need to divide the tally by the geometry filter dimensions (e.g. surface area, cell volume, mesh element volume etc.) but other steps might be necessary, depending on the tally. Here we have the volume of the cells."
   ]
  },
  {
   "cell_type": "code",
   "execution_count": 3,
   "metadata": {},
   "outputs": [
    {
     "data": {
      "text/html": [
       "<div>\n",
       "<style scoped>\n",
       "    .dataframe tbody tr th:only-of-type {\n",
       "        vertical-align: middle;\n",
       "    }\n",
       "\n",
       "    .dataframe tbody tr th {\n",
       "        vertical-align: top;\n",
       "    }\n",
       "\n",
       "    .dataframe thead th {\n",
       "        text-align: right;\n",
       "    }\n",
       "</style>\n",
       "<table border=\"1\" class=\"dataframe\">\n",
       "  <thead>\n",
       "    <tr style=\"text-align: right;\">\n",
       "      <th></th>\n",
       "      <th>cell</th>\n",
       "      <th>particle</th>\n",
       "      <th>energyfunction</th>\n",
       "      <th>nuclide</th>\n",
       "      <th>score</th>\n",
       "      <th>mean</th>\n",
       "      <th>std. dev.</th>\n",
       "    </tr>\n",
       "  </thead>\n",
       "  <tbody>\n",
       "    <tr>\n",
       "      <th>0</th>\n",
       "      <td>135</td>\n",
       "      <td>neutron</td>\n",
       "      <td>c0eb4a8954a405</td>\n",
       "      <td>total</td>\n",
       "      <td>flux</td>\n",
       "      <td>3.109336e-04</td>\n",
       "      <td>4.155798e-08</td>\n",
       "    </tr>\n",
       "    <tr>\n",
       "      <th>1</th>\n",
       "      <td>158</td>\n",
       "      <td>neutron</td>\n",
       "      <td>c0eb4a8954a405</td>\n",
       "      <td>total</td>\n",
       "      <td>flux</td>\n",
       "      <td>3.567396e-05</td>\n",
       "      <td>1.391516e-08</td>\n",
       "    </tr>\n",
       "    <tr>\n",
       "      <th>2</th>\n",
       "      <td>181</td>\n",
       "      <td>neutron</td>\n",
       "      <td>c0eb4a8954a405</td>\n",
       "      <td>total</td>\n",
       "      <td>flux</td>\n",
       "      <td>1.273627e-05</td>\n",
       "      <td>8.185310e-09</td>\n",
       "    </tr>\n",
       "    <tr>\n",
       "      <th>3</th>\n",
       "      <td>204</td>\n",
       "      <td>neutron</td>\n",
       "      <td>c0eb4a8954a405</td>\n",
       "      <td>total</td>\n",
       "      <td>flux</td>\n",
       "      <td>6.095352e-06</td>\n",
       "      <td>5.048533e-09</td>\n",
       "    </tr>\n",
       "    <tr>\n",
       "      <th>4</th>\n",
       "      <td>602</td>\n",
       "      <td>neutron</td>\n",
       "      <td>c0eb4a8954a405</td>\n",
       "      <td>total</td>\n",
       "      <td>flux</td>\n",
       "      <td>4.710290e-06</td>\n",
       "      <td>4.203105e-09</td>\n",
       "    </tr>\n",
       "    <tr>\n",
       "      <th>5</th>\n",
       "      <td>239</td>\n",
       "      <td>neutron</td>\n",
       "      <td>c0eb4a8954a405</td>\n",
       "      <td>total</td>\n",
       "      <td>flux</td>\n",
       "      <td>6.266556e-06</td>\n",
       "      <td>6.904215e-09</td>\n",
       "    </tr>\n",
       "    <tr>\n",
       "      <th>6</th>\n",
       "      <td>262</td>\n",
       "      <td>neutron</td>\n",
       "      <td>c0eb4a8954a405</td>\n",
       "      <td>total</td>\n",
       "      <td>flux</td>\n",
       "      <td>1.846997e-06</td>\n",
       "      <td>4.706767e-09</td>\n",
       "    </tr>\n",
       "    <tr>\n",
       "      <th>7</th>\n",
       "      <td>285</td>\n",
       "      <td>neutron</td>\n",
       "      <td>c0eb4a8954a405</td>\n",
       "      <td>total</td>\n",
       "      <td>flux</td>\n",
       "      <td>5.232285e-07</td>\n",
       "      <td>2.297467e-09</td>\n",
       "    </tr>\n",
       "    <tr>\n",
       "      <th>8</th>\n",
       "      <td>308</td>\n",
       "      <td>neutron</td>\n",
       "      <td>c0eb4a8954a405</td>\n",
       "      <td>total</td>\n",
       "      <td>flux</td>\n",
       "      <td>1.450764e-07</td>\n",
       "      <td>1.102283e-09</td>\n",
       "    </tr>\n",
       "    <tr>\n",
       "      <th>9</th>\n",
       "      <td>331</td>\n",
       "      <td>neutron</td>\n",
       "      <td>c0eb4a8954a405</td>\n",
       "      <td>total</td>\n",
       "      <td>flux</td>\n",
       "      <td>6.181171e-08</td>\n",
       "      <td>9.447441e-10</td>\n",
       "    </tr>\n",
       "    <tr>\n",
       "      <th>10</th>\n",
       "      <td>363</td>\n",
       "      <td>neutron</td>\n",
       "      <td>c0eb4a8954a405</td>\n",
       "      <td>total</td>\n",
       "      <td>flux</td>\n",
       "      <td>1.726685e-08</td>\n",
       "      <td>4.335246e-10</td>\n",
       "    </tr>\n",
       "    <tr>\n",
       "      <th>11</th>\n",
       "      <td>386</td>\n",
       "      <td>neutron</td>\n",
       "      <td>c0eb4a8954a405</td>\n",
       "      <td>total</td>\n",
       "      <td>flux</td>\n",
       "      <td>5.947850e-09</td>\n",
       "      <td>2.954882e-10</td>\n",
       "    </tr>\n",
       "    <tr>\n",
       "      <th>12</th>\n",
       "      <td>398</td>\n",
       "      <td>neutron</td>\n",
       "      <td>c0eb4a8954a405</td>\n",
       "      <td>total</td>\n",
       "      <td>flux</td>\n",
       "      <td>2.526093e-09</td>\n",
       "      <td>1.945098e-10</td>\n",
       "    </tr>\n",
       "  </tbody>\n",
       "</table>\n",
       "</div>"
      ],
      "text/plain": [
       "    cell particle  energyfunction nuclide score     mean  std. dev.\n",
       "0    135  neutron  c0eb4a8954a405   total  flux 3.11e-04   4.16e-08\n",
       "1    158  neutron  c0eb4a8954a405   total  flux 3.57e-05   1.39e-08\n",
       "2    181  neutron  c0eb4a8954a405   total  flux 1.27e-05   8.19e-09\n",
       "3    204  neutron  c0eb4a8954a405   total  flux 6.10e-06   5.05e-09\n",
       "4    602  neutron  c0eb4a8954a405   total  flux 4.71e-06   4.20e-09\n",
       "5    239  neutron  c0eb4a8954a405   total  flux 6.27e-06   6.90e-09\n",
       "6    262  neutron  c0eb4a8954a405   total  flux 1.85e-06   4.71e-09\n",
       "7    285  neutron  c0eb4a8954a405   total  flux 5.23e-07   2.30e-09\n",
       "8    308  neutron  c0eb4a8954a405   total  flux 1.45e-07   1.10e-09\n",
       "9    331  neutron  c0eb4a8954a405   total  flux 6.18e-08   9.45e-10\n",
       "10   363  neutron  c0eb4a8954a405   total  flux 1.73e-08   4.34e-10\n",
       "11   386  neutron  c0eb4a8954a405   total  flux 5.95e-09   2.95e-10\n",
       "12   398  neutron  c0eb4a8954a405   total  flux 2.53e-09   1.95e-10"
      ]
     },
     "execution_count": 3,
     "metadata": {},
     "output_type": "execute_result"
    }
   ],
   "source": [
    "_foil_volume = .1 * 1.8**2/4 * np.pi\n",
    "volumes_onaxis1 = np.concatenate((np.ones(5), np.ones(4)*2, np.ones(4)*3)) * _foil_volume\n",
    "\n",
    "openmc_results.get_tally_dataframe(tally_name='rr_onaxis1_nb93', normalize_over=None)"
   ]
  },
  {
   "cell_type": "markdown",
   "metadata": {},
   "source": [
    "I is possible to extract some useful information about the code and the simulation settings: "
   ]
  },
  {
   "cell_type": "code",
   "execution_count": 4,
   "metadata": {},
   "outputs": [
    {
     "name": "stdout",
     "output_type": "stream",
     "text": [
      "Code version: (0, 13, 3)\n",
      "Batches: 100\n",
      "Particles per batch: 1.00e+08\n"
     ]
    }
   ],
   "source": [
    "version = openmc_results.get_openmc_version\n",
    "batches = openmc_results.get_batches\n",
    "ppbatch = openmc_results.get_particles_per_batch\n",
    "\n",
    "print(f'Code version: {version}')\n",
    "print(f'Batches: {batches}')\n",
    "print(f'Particles per batch: {ppbatch}')"
   ]
  },
  {
   "cell_type": "markdown",
   "metadata": {},
   "source": [
    "## Store results in a database-compatible HDF file\n",
    "It is possible to store the postprocessed tally in a HDF file compatible with the other files already present in the `\\results_database\\` folders of the benchmarks available in `\\model\\`. Of course some information need to be given:\n",
    "- The name of the HDF file (either existing or to create) to store the results in\n",
    "- The name of the tally (should not change from the name in the `statepoint` file or, at least, it has to be consistent with the name present in the other HDF files in the database)\n",
    "\n",
    "Additional:\n",
    "- Normalization for postprocessing (e.g. cell volume)\n",
    "- Name of the nuclear data library used (strongly recommended)\n",
    "- When the simulation has been run\n",
    "- Where it has been run"
   ]
  },
  {
   "cell_type": "code",
   "execution_count": 5,
   "metadata": {},
   "outputs": [
    {
     "name": "stderr",
     "output_type": "stream",
     "text": [
      "/home/segantin/miniconda3/envs/baby_neutronics/lib/python3.9/site-packages/tables/path.py:137: NaturalNameWarning: object name is not a valid Python identifier: 'Shield depth (cm)'; it does not match the pattern ``^[a-zA-Z_][a-zA-Z0-9_]*$``; you will not be able to use natural naming to access this object; using ``getattr()`` will still work, though\n",
      "  check_attribute_name(name)\n",
      "/home/segantin/miniconda3/envs/baby_neutronics/lib/python3.9/site-packages/tables/path.py:137: NaturalNameWarning: object name is not a valid Python identifier: 'std. dev.'; it does not match the pattern ``^[a-zA-Z_][a-zA-Z0-9_]*$``; you will not be able to use natural naming to access this object; using ``getattr()`` will still work, though\n",
      "  check_attribute_name(name)\n",
      "/home/segantin/miniconda3/envs/baby_neutronics/lib/python3.9/site-packages/tables/attributeset.py:459: NaturalNameWarning: object name is not a valid Python identifier: 'Shield depth (cm)_kind'; it does not match the pattern ``^[a-zA-Z_][a-zA-Z0-9_]*$``; you will not be able to use natural naming to access this object; using ``getattr()`` will still work, though\n",
      "  check_attribute_name(name)\n",
      "/home/segantin/miniconda3/envs/baby_neutronics/lib/python3.9/site-packages/tables/attributeset.py:459: NaturalNameWarning: object name is not a valid Python identifier: 'Shield depth (cm)_meta'; it does not match the pattern ``^[a-zA-Z_][a-zA-Z0-9_]*$``; you will not be able to use natural naming to access this object; using ``getattr()`` will still work, though\n",
      "  check_attribute_name(name)\n",
      "/home/segantin/miniconda3/envs/baby_neutronics/lib/python3.9/site-packages/tables/attributeset.py:459: NaturalNameWarning: object name is not a valid Python identifier: 'Shield depth (cm)_dtype'; it does not match the pattern ``^[a-zA-Z_][a-zA-Z0-9_]*$``; you will not be able to use natural naming to access this object; using ``getattr()`` will still work, though\n",
      "  check_attribute_name(name)\n",
      "/home/segantin/miniconda3/envs/baby_neutronics/lib/python3.9/site-packages/tables/attributeset.py:459: NaturalNameWarning: object name is not a valid Python identifier: 'std. dev._kind'; it does not match the pattern ``^[a-zA-Z_][a-zA-Z0-9_]*$``; you will not be able to use natural naming to access this object; using ``getattr()`` will still work, though\n",
      "  check_attribute_name(name)\n",
      "/home/segantin/miniconda3/envs/baby_neutronics/lib/python3.9/site-packages/tables/attributeset.py:459: NaturalNameWarning: object name is not a valid Python identifier: 'std. dev._meta'; it does not match the pattern ``^[a-zA-Z_][a-zA-Z0-9_]*$``; you will not be able to use natural naming to access this object; using ``getattr()`` will still work, though\n",
      "  check_attribute_name(name)\n",
      "/home/segantin/miniconda3/envs/baby_neutronics/lib/python3.9/site-packages/tables/attributeset.py:459: NaturalNameWarning: object name is not a valid Python identifier: 'std. dev._dtype'; it does not match the pattern ``^[a-zA-Z_][a-zA-Z0-9_]*$``; you will not be able to use natural naming to access this object; using ``getattr()`` will still work, though\n",
      "  check_attribute_name(name)\n"
     ]
    }
   ],
   "source": [
    "xaxis_list = ['0.25', '12.95', '25.95', '38.65', '43.82', '46.35', \n",
    "              '53.3', '60.05', '66.9', '73.9', '80.6', '87.25', '91.65']\n",
    "openmc_results.tally_to_hdf(tally_name='rr_onaxis1_nb93', \n",
    "                            normalize_over=volumes_onaxis1, \n",
    "                            xs_library='FENDL-3.2b', \n",
    "                            xaxis_name='Shield depth (cm)',\n",
    "                            xaxis_list=xaxis_list,\n",
    "                            path_to_database='example_database', \n",
    "                            when='November 2023', where='MIT-PSFC')"
   ]
  },
  {
   "cell_type": "markdown",
   "metadata": {},
   "source": [
    "Let's verify that we stored something in our file:"
   ]
  },
  {
   "cell_type": "code",
   "execution_count": 6,
   "metadata": {},
   "outputs": [
    {
     "data": {
      "text/plain": [
       "array([( 0, b'0.25', b'c0eb4a8954a405', 1.22189201e-03, 1.63312534e-07),\n",
       "       ( 1, b'12.95', b'c0eb4a8954a405', 1.40189803e-04, 5.46831183e-08),\n",
       "       ( 2, b'25.95', b'c0eb4a8954a405', 5.00503709e-05, 3.21662356e-08),\n",
       "       ( 3, b'38.65', b'c0eb4a8954a405', 2.39532182e-05, 1.98394803e-08),\n",
       "       ( 4, b'43.82', b'c0eb4a8954a405', 1.85102692e-05, 1.65171604e-08),\n",
       "       ( 5, b'46.35', b'c0eb4a8954a405', 1.23130039e-05, 1.35659245e-08),\n",
       "       ( 6, b'53.3', b'c0eb4a8954a405', 3.62911963e-06, 9.24821360e-09),\n",
       "       ( 7, b'60.05', b'c0eb4a8954a405', 1.02807896e-06, 4.51423650e-09),\n",
       "       ( 8, b'66.9', b'c0eb4a8954a405', 2.85057194e-07, 2.16584913e-09),\n",
       "       ( 9, b'73.9', b'c0eb4a8954a405', 8.09682264e-08, 1.23753654e-09),\n",
       "       (10, b'80.6', b'c0eb4a8954a405', 2.26181498e-08, 5.67881295e-10),\n",
       "       (11, b'87.25', b'c0eb4a8954a405', 7.79119101e-09, 3.87065143e-10),\n",
       "       (12, b'91.65', b'c0eb4a8954a405', 3.30897239e-09, 2.54791800e-10)],\n",
       "      dtype=[('index', '<i8'), ('Shield depth (cm)', 'S5'), ('energyfunction', 'S14'), ('mean', '<f8'), ('std. dev.', '<f8')])"
      ]
     },
     "execution_count": 6,
     "metadata": {},
     "output_type": "execute_result"
    }
   ],
   "source": [
    "openmc_file = osb.ResultsFromDatabase(filename='openmc_fendl32b.h5', path='example_database')\n",
    "openmc_file.get_tally_dataframe(tally_name='rr_onaxis1_nb93')"
   ]
  },
  {
   "cell_type": "code",
   "execution_count": 7,
   "metadata": {},
   "outputs": [
    {
     "name": "stdout",
     "output_type": "stream",
     "text": [
      "When: November 2023\n",
      " Where: MIT-PSFC\n",
      " Code version:openmc-0.13.3\n",
      " XS library: FENDL-3.2b\n",
      "Literature: n/a\n",
      "\n"
     ]
    }
   ],
   "source": [
    "openmc_file.print_all_info()"
   ]
  }
 ],
 "metadata": {
  "kernelspec": {
   "display_name": "baby_neutronics",
   "language": "python",
   "name": "python3"
  },
  "language_info": {
   "codemirror_mode": {
    "name": "ipython",
    "version": 3
   },
   "file_extension": ".py",
   "mimetype": "text/x-python",
   "name": "python",
   "nbconvert_exporter": "python",
   "pygments_lexer": "ipython3",
   "version": "3.9.17"
  }
 },
 "nbformat": 4,
 "nbformat_minor": 2
}
