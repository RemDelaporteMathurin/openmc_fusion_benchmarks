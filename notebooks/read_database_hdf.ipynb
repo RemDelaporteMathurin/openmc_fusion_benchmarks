{
 "cells": [
  {
   "cell_type": "markdown",
   "metadata": {},
   "source": [
    "# Read HDF files from results database\n",
    "This notebook shows how to extract results from hdf (`.h5`) files that are already present in the `\\results_database\\` folder that is present in each benchmark folder (in `\\models\\`). These files can store either experimental or computational results of the same experiment/simulation. The `\\results_database\\` folder of the should have all the same structure and same ways to extract the data (e.g. the name of the tally).\n",
    "\n",
    "For this tutorial notebook the `\\results_database\\` folder is replaced with the `\\example_database\\` folder. The `\\example_database\\` folder contains some of the actual results from the **fng-streaming** benchmark as example."
   ]
  },
  {
   "cell_type": "code",
   "execution_count": 1,
   "metadata": {},
   "outputs": [],
   "source": [
    "import openmc_fusion_benchmarks as ofb"
   ]
  },
  {
   "cell_type": "markdown",
   "metadata": {},
   "source": [
    "First we need to instantiate a `ResultsFromDatabase` object by providing the name of the file to read (`filename`) and its path (`path`)."
   ]
  },
  {
   "cell_type": "code",
   "execution_count": 2,
   "metadata": {},
   "outputs": [],
   "source": [
    "experiment_file = ofb.ResultsFromDatabase(filename='experiment.h5', path='example_database')\n",
    "mcnp_fendl1_file = ofb.ResultsFromDatabase(filename='mcnp_fendl1.h5', path='example_database')"
   ]
  },
  {
   "cell_type": "markdown",
   "metadata": {},
   "source": [
    "Usually the file is read from a **postprocessing** notebook that is in the benchmark/model folder with contains the `\\results_database\\` folder. Therefore, the `path` argument defaults to a `\\results_database\\` folder."
   ]
  },
  {
   "cell_type": "markdown",
   "metadata": {},
   "source": [
    "### Extract info\n",
    "If present, it is possible to extract and print some information regarding the experiment/simulation that produced the results present in the hdf file. Typical information can be:\n",
    "- `when` the experiment/simulation have been performed\n",
    "- `Where` the experiment/simulation have been performed (either place or institution)\n",
    "- `literature_info` regarding the experiment/model/simulation (most likely the link to a paper or report)\n",
    "- `code_version` if the hdf file refers to simulation results, useful info for V&V purposes\n",
    "- `xs_library` (nuclear data library name and version) if the hdf file refers to simulation results, useful info for V&V purposes"
   ]
  },
  {
   "cell_type": "markdown",
   "metadata": {},
   "source": [
    "Example of experimental information extraction:"
   ]
  },
  {
   "cell_type": "code",
   "execution_count": 3,
   "metadata": {},
   "outputs": [
    {
     "name": "stdout",
     "output_type": "stream",
     "text": [
      "When: ['1997-1998']\n",
      "Where: ['ENEA, Frascati (Italy)']\n",
      "Literature: ['https://doi.org/10.1016/S0920-3796(00)00205-2']\n"
     ]
    }
   ],
   "source": [
    "when = experiment_file.when\n",
    "where = experiment_file.where\n",
    "literature = experiment_file.literature_info\n",
    "\n",
    "print(f'When: {when}')\n",
    "print(f'Where: {where}')\n",
    "print(f'Literature: {literature}')"
   ]
  },
  {
   "cell_type": "markdown",
   "metadata": {},
   "source": [
    "It is also possible to print all the information at once with the `print_all_info` method:"
   ]
  },
  {
   "cell_type": "code",
   "execution_count": 4,
   "metadata": {},
   "outputs": [
    {
     "name": "stdout",
     "output_type": "stream",
     "text": [
      "Info:\n",
      " When: ['1997-1998']\n",
      " Where: ['ENEA, Frascati (Italy)']\n",
      " Code version: n/a\n",
      " XS library: n/a\n",
      " Literature: ['https://doi.org/10.1016/S0920-3796(00)00205-2']\n",
      "\n"
     ]
    }
   ],
   "source": [
    "experiment_file.print_all_info()"
   ]
  },
  {
   "cell_type": "markdown",
   "metadata": {},
   "source": [
    "Similarly, for hdf files containing numerical simulation results:"
   ]
  },
  {
   "cell_type": "code",
   "execution_count": 5,
   "metadata": {},
   "outputs": [
    {
     "name": "stdout",
     "output_type": "stream",
     "text": [
      "Info:\n",
      " When: n/a\n",
      " Where: n/a\n",
      " Code version: MCNP-4A/B\n",
      " XS library: FENDL-1.0\n",
      " Literature: ['https://doi.org/10.1016/S0920-3796(00)00205-2']\n",
      "\n"
     ]
    }
   ],
   "source": [
    "cv = mcnp_fendl1_file.code_version\n",
    "xslib = mcnp_fendl1_file.xs_library\n",
    "literature = mcnp_fendl1_file.literature_info\n",
    "\n",
    "mcnp_fendl1_file.print_all_info()"
   ]
  },
  {
   "cell_type": "markdown",
   "metadata": {},
   "source": [
    "In the case of hdf file containing simulation results it is possible to print just the `code_info`. Namely the `code_version` and `xs_library`:"
   ]
  },
  {
   "cell_type": "code",
   "execution_count": 6,
   "metadata": {},
   "outputs": [
    {
     "name": "stdout",
     "output_type": "stream",
     "text": [
      "Code version:MCNP-4A/B\n",
      " XS library: FENDL-1.0\n",
      "\n"
     ]
    }
   ],
   "source": [
    "mcnp_fendl1_file.print_code_info()"
   ]
  },
  {
   "cell_type": "markdown",
   "metadata": {},
   "source": [
    "### Extract a tally"
   ]
  },
  {
   "cell_type": "markdown",
   "metadata": {},
   "source": [
    "In order to extract a tally from a hdf file it is necessary to know its exact name. The `ResultsFromDatabase` object has a `list_tallies()` method that helps identifying the names of all the tallies available:"
   ]
  },
  {
   "cell_type": "code",
   "execution_count": 7,
   "metadata": {},
   "outputs": [
    {
     "name": "stdout",
     "output_type": "stream",
     "text": [
      "<KeysViewHDF5 ['nuclear_heating', 'rr_offaxis_al27', 'rr_offaxis_au197', 'rr_offaxis_nb93', 'rr_offaxis_ni58', 'rr_onaxis1_al27', 'rr_onaxis1_au197', 'rr_onaxis1_nb93', 'rr_onaxis1_ni58', 'rr_onaxis2_al27', 'rr_onaxis2_au197', 'rr_onaxis2_nb93', 'rr_onaxis2_ni58']>\n"
     ]
    }
   ],
   "source": [
    "experiment_file.list_tallies()"
   ]
  },
  {
   "cell_type": "markdown",
   "metadata": {},
   "source": [
    "We chose, as example, the tally named `rr_offaxis_al27` and extract its results in a Pandas DataFrame format with the `get_tally_dataframe` method:"
   ]
  },
  {
   "cell_type": "code",
   "execution_count": 8,
   "metadata": {},
   "outputs": [
    {
     "data": {
      "text/html": [
       "<div>\n",
       "<style scoped>\n",
       "    .dataframe tbody tr th:only-of-type {\n",
       "        vertical-align: middle;\n",
       "    }\n",
       "\n",
       "    .dataframe tbody tr th {\n",
       "        vertical-align: top;\n",
       "    }\n",
       "\n",
       "    .dataframe thead th {\n",
       "        text-align: right;\n",
       "    }\n",
       "</style>\n",
       "<table border=\"1\" class=\"dataframe\">\n",
       "  <thead>\n",
       "    <tr style=\"text-align: right;\">\n",
       "      <th></th>\n",
       "      <th>Shield depth (cm)</th>\n",
       "      <th>mean</th>\n",
       "      <th>std. dev.</th>\n",
       "    </tr>\n",
       "  </thead>\n",
       "  <tbody>\n",
       "    <tr>\n",
       "      <th>0</th>\n",
       "      <td>0.25</td>\n",
       "      <td>2.870000e-04</td>\n",
       "      <td>1.004500e-05</td>\n",
       "    </tr>\n",
       "    <tr>\n",
       "      <th>1</th>\n",
       "      <td>12.95</td>\n",
       "      <td>3.540000e-05</td>\n",
       "      <td>1.239000e-06</td>\n",
       "    </tr>\n",
       "    <tr>\n",
       "      <th>2</th>\n",
       "      <td>25.95</td>\n",
       "      <td>1.230000e-05</td>\n",
       "      <td>4.920000e-07</td>\n",
       "    </tr>\n",
       "    <tr>\n",
       "      <th>3</th>\n",
       "      <td>38.65</td>\n",
       "      <td>6.060000e-06</td>\n",
       "      <td>2.424000e-07</td>\n",
       "    </tr>\n",
       "    <tr>\n",
       "      <th>4</th>\n",
       "      <td>43.82</td>\n",
       "      <td>4.650000e-06</td>\n",
       "      <td>1.860000e-07</td>\n",
       "    </tr>\n",
       "    <tr>\n",
       "      <th>5</th>\n",
       "      <td>46.35</td>\n",
       "      <td>3.280000e-06</td>\n",
       "      <td>1.902400e-07</td>\n",
       "    </tr>\n",
       "    <tr>\n",
       "      <th>6</th>\n",
       "      <td>53.3</td>\n",
       "      <td>1.020000e-06</td>\n",
       "      <td>6.528000e-08</td>\n",
       "    </tr>\n",
       "    <tr>\n",
       "      <th>7</th>\n",
       "      <td>60.05</td>\n",
       "      <td>3.020000e-07</td>\n",
       "      <td>1.963000e-08</td>\n",
       "    </tr>\n",
       "    <tr>\n",
       "      <th>8</th>\n",
       "      <td>66.9</td>\n",
       "      <td>7.980000e-08</td>\n",
       "      <td>5.665800e-09</td>\n",
       "    </tr>\n",
       "    <tr>\n",
       "      <th>9</th>\n",
       "      <td>73.9</td>\n",
       "      <td>2.460000e-08</td>\n",
       "      <td>1.918800e-09</td>\n",
       "    </tr>\n",
       "    <tr>\n",
       "      <th>10</th>\n",
       "      <td>80.6</td>\n",
       "      <td>7.310000e-09</td>\n",
       "      <td>6.871400e-10</td>\n",
       "    </tr>\n",
       "    <tr>\n",
       "      <th>11</th>\n",
       "      <td>87.25</td>\n",
       "      <td>2.140000e-09</td>\n",
       "      <td>2.396800e-10</td>\n",
       "    </tr>\n",
       "    <tr>\n",
       "      <th>12</th>\n",
       "      <td>91.65</td>\n",
       "      <td>1.070000e-09</td>\n",
       "      <td>1.337500e-10</td>\n",
       "    </tr>\n",
       "  </tbody>\n",
       "</table>\n",
       "</div>"
      ],
      "text/plain": [
       "   Shield depth (cm)          mean     std. dev.\n",
       "0               0.25  2.870000e-04  1.004500e-05\n",
       "1              12.95  3.540000e-05  1.239000e-06\n",
       "2              25.95  1.230000e-05  4.920000e-07\n",
       "3              38.65  6.060000e-06  2.424000e-07\n",
       "4              43.82  4.650000e-06  1.860000e-07\n",
       "5              46.35  3.280000e-06  1.902400e-07\n",
       "6               53.3  1.020000e-06  6.528000e-08\n",
       "7              60.05  3.020000e-07  1.963000e-08\n",
       "8               66.9  7.980000e-08  5.665800e-09\n",
       "9               73.9  2.460000e-08  1.918800e-09\n",
       "10              80.6  7.310000e-09  6.871400e-10\n",
       "11             87.25  2.140000e-09  2.396800e-10\n",
       "12             91.65  1.070000e-09  1.337500e-10"
      ]
     },
     "execution_count": 8,
     "metadata": {},
     "output_type": "execute_result"
    }
   ],
   "source": [
    "results = experiment_file.get_tally_dataframe(tally_name='rr_onaxis1_al27')\n",
    "\n",
    "results"
   ]
  },
  {
   "cell_type": "markdown",
   "metadata": {},
   "source": [
    "It is possible to view single columns of the dataframe by calling the column name (names listed in the bottom line of the previous):"
   ]
  },
  {
   "cell_type": "code",
   "execution_count": 9,
   "metadata": {},
   "outputs": [
    {
     "name": "stdout",
     "output_type": "stream",
     "text": [
      "0     2.870000e-04\n",
      "1     3.540000e-05\n",
      "2     1.230000e-05\n",
      "3     6.060000e-06\n",
      "4     4.650000e-06\n",
      "5     3.280000e-06\n",
      "6     1.020000e-06\n",
      "7     3.020000e-07\n",
      "8     7.980000e-08\n",
      "9     2.460000e-08\n",
      "10    7.310000e-09\n",
      "11    2.140000e-09\n",
      "12    1.070000e-09\n",
      "Name: mean, dtype: float64\n",
      "0     1.004500e-05\n",
      "1     1.239000e-06\n",
      "2     4.920000e-07\n",
      "3     2.424000e-07\n",
      "4     1.860000e-07\n",
      "5     1.902400e-07\n",
      "6     6.528000e-08\n",
      "7     1.963000e-08\n",
      "8     5.665800e-09\n",
      "9     1.918800e-09\n",
      "10    6.871400e-10\n",
      "11    2.396800e-10\n",
      "12    1.337500e-10\n",
      "Name: std. dev., dtype: float64\n"
     ]
    }
   ],
   "source": [
    "print(results['mean'])\n",
    "print(results['std. dev.'])"
   ]
  },
  {
   "cell_type": "markdown",
   "metadata": {},
   "source": [
    "Typical experimental or statistical results (e.g. Monte Carlo simulation) are provided with the `mean` and `std. dev.` columns.\n",
    "Where the `std. dev.` column provides the **standard deviation absolute values (not relative)**."
   ]
  },
  {
   "cell_type": "markdown",
   "metadata": {},
   "source": [
    "Strings need to be decoded:"
   ]
  },
  {
   "cell_type": "code",
   "execution_count": 10,
   "metadata": {},
   "outputs": [
    {
     "ename": "AttributeError",
     "evalue": "'str' object has no attribute 'decode'",
     "output_type": "error",
     "traceback": [
      "\u001b[0;31m---------------------------------------------------------------------------\u001b[0m",
      "\u001b[0;31mAttributeError\u001b[0m                            Traceback (most recent call last)",
      "\u001b[1;32m/home/segantin/openmc_models/models/openmc_sinbad_benchmarks_REWORK/openmc_sinbad_benchmarks/notebooks/read_database_hdf.ipynb Cell 24\u001b[0m line \u001b[0;36m1\n\u001b[0;32m----> <a href='vscode-notebook-cell://wsl%2Bubuntu/home/segantin/openmc_models/models/openmc_sinbad_benchmarks_REWORK/openmc_sinbad_benchmarks/notebooks/read_database_hdf.ipynb#X32sdnNjb2RlLXJlbW90ZQ%3D%3D?line=0'>1</a>\u001b[0m \u001b[39mprint\u001b[39m([el\u001b[39m.\u001b[39;49mdecode() \u001b[39mfor\u001b[39;49;00m el \u001b[39min\u001b[39;49;00m results[\u001b[39m'\u001b[39;49m\u001b[39mShield depth (cm)\u001b[39;49m\u001b[39m'\u001b[39;49m]])\n",
      "\u001b[1;32m/home/segantin/openmc_models/models/openmc_sinbad_benchmarks_REWORK/openmc_sinbad_benchmarks/notebooks/read_database_hdf.ipynb Cell 24\u001b[0m line \u001b[0;36m1\n\u001b[0;32m----> <a href='vscode-notebook-cell://wsl%2Bubuntu/home/segantin/openmc_models/models/openmc_sinbad_benchmarks_REWORK/openmc_sinbad_benchmarks/notebooks/read_database_hdf.ipynb#X32sdnNjb2RlLXJlbW90ZQ%3D%3D?line=0'>1</a>\u001b[0m \u001b[39mprint\u001b[39m([el\u001b[39m.\u001b[39;49mdecode() \u001b[39mfor\u001b[39;00m el \u001b[39min\u001b[39;00m results[\u001b[39m'\u001b[39m\u001b[39mShield depth (cm)\u001b[39m\u001b[39m'\u001b[39m]])\n",
      "\u001b[0;31mAttributeError\u001b[0m: 'str' object has no attribute 'decode'"
     ]
    }
   ],
   "source": [
    "print([el.decode() for el in results['Shield depth (cm)']])"
   ]
  }
 ],
 "metadata": {
  "kernelspec": {
   "display_name": "baby_neutronics",
   "language": "python",
   "name": "python3"
  },
  "language_info": {
   "codemirror_mode": {
    "name": "ipython",
    "version": 3
   },
   "file_extension": ".py",
   "mimetype": "text/x-python",
   "name": "python",
   "nbconvert_exporter": "python",
   "pygments_lexer": "ipython3",
   "version": "3.11.7"
  },
  "orig_nbformat": 4
 },
 "nbformat": 4,
 "nbformat_minor": 2
}
