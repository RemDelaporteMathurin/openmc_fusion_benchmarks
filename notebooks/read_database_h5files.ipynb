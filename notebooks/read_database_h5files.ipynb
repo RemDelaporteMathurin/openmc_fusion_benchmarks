{
 "cells": [
  {
   "cell_type": "code",
   "execution_count": 1,
   "metadata": {},
   "outputs": [],
   "source": [
    "import openmc_sinbad_benchmarks as osb"
   ]
  },
  {
   "cell_type": "code",
   "execution_count": 5,
   "metadata": {},
   "outputs": [],
   "source": [
    "experiment_file = osb.ResultsFromDatabase(filename='experiment.h5', path='example_database')"
   ]
  },
  {
   "cell_type": "code",
   "execution_count": null,
   "metadata": {},
   "outputs": [],
   "source": [
    "experiment_file.when\n",
    "experiment_file.where\n",
    "experiment_file.print_all_info"
   ]
  },
  {
   "cell_type": "code",
   "execution_count": 4,
   "metadata": {},
   "outputs": [
    {
     "ename": "AttributeError",
     "evalue": "'ResultsFromDatabase' object has no attribute 'keys'",
     "output_type": "error",
     "traceback": [
      "\u001b[0;31m---------------------------------------------------------------------------\u001b[0m",
      "\u001b[0;31mAttributeError\u001b[0m                            Traceback (most recent call last)",
      "\u001b[1;32m/home/segantin/openmc_models/models/openmc_sinbad_benchmarks_REWORK/openmc_sinbad_benchmarks/notebooks/read_database_h5files.ipynb Cell 2\u001b[0m line \u001b[0;36m3\n\u001b[1;32m      <a href='vscode-notebook-cell://wsl%2Bubuntu/home/segantin/openmc_models/models/openmc_sinbad_benchmarks_REWORK/openmc_sinbad_benchmarks/notebooks/read_database_h5files.ipynb#W1sdnNjb2RlLXJlbW90ZQ%3D%3D?line=0'>1</a>\u001b[0m mcnp_fendl1_file \u001b[39m=\u001b[39m osb\u001b[39m.\u001b[39mResultsFromDatabase(filename\u001b[39m=\u001b[39m\u001b[39m'\u001b[39m\u001b[39mmcnp_fendl1.h5\u001b[39m\u001b[39m'\u001b[39m, path\u001b[39m=\u001b[39m\u001b[39m'\u001b[39m\u001b[39mexample_database\u001b[39m\u001b[39m'\u001b[39m)\n\u001b[0;32m----> <a href='vscode-notebook-cell://wsl%2Bubuntu/home/segantin/openmc_models/models/openmc_sinbad_benchmarks_REWORK/openmc_sinbad_benchmarks/notebooks/read_database_h5files.ipynb#W1sdnNjb2RlLXJlbW90ZQ%3D%3D?line=2'>3</a>\u001b[0m \u001b[39mfor\u001b[39;00m k \u001b[39min\u001b[39;00m mcnp_fendl1_file\u001b[39m.\u001b[39;49mkeys():\n\u001b[1;32m      <a href='vscode-notebook-cell://wsl%2Bubuntu/home/segantin/openmc_models/models/openmc_sinbad_benchmarks_REWORK/openmc_sinbad_benchmarks/notebooks/read_database_h5files.ipynb#W1sdnNjb2RlLXJlbW90ZQ%3D%3D?line=3'>4</a>\u001b[0m     \u001b[39mprint\u001b[39m(k)\n",
      "\u001b[0;31mAttributeError\u001b[0m: 'ResultsFromDatabase' object has no attribute 'keys'"
     ]
    }
   ],
   "source": [
    "mcnp_fendl1_file = osb.ResultsFromDatabase(filename='mcnp_fendl1.h5', path='example_database')"
   ]
  },
  {
   "cell_type": "code",
   "execution_count": null,
   "metadata": {},
   "outputs": [],
   "source": [
    "mcnp_fendl1_file.code_version\n",
    "mcnp_fendl1_file.xs_library"
   ]
  }
 ],
 "metadata": {
  "kernelspec": {
   "display_name": "baby_neutronics",
   "language": "python",
   "name": "python3"
  },
  "language_info": {
   "codemirror_mode": {
    "name": "ipython",
    "version": 3
   },
   "file_extension": ".py",
   "mimetype": "text/x-python",
   "name": "python",
   "nbconvert_exporter": "python",
   "pygments_lexer": "ipython3",
   "version": "3.9.17"
  },
  "orig_nbformat": 4
 },
 "nbformat": 4,
 "nbformat_minor": 2
}
