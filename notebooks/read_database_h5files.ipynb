{
 "cells": [
  {
   "cell_type": "markdown",
   "metadata": {},
   "source": [
    "# Read HDF files from results database\n",
    "This notebook shows how to extract results from hdf (`.h5`) files that are already present in the `\\results_database\\` folder that is present in each benchmark folder (in `\\models\\`). These files can store either experimental or computational results of the same experiment/simulation. The `\\results_database\\` folder of the should have all the same structure and same ways to extract the data (e.g. the name of the tally).\n",
    "\n",
    "For this tutorial notebook the `\\results_database\\` folder is replaced with the `\\example_database\\` folder. The `\\example_database\\` folder contains some of the actual results from the **fng-streaming** benchmark as example."
   ]
  },
  {
   "cell_type": "code",
   "execution_count": 20,
   "metadata": {},
   "outputs": [],
   "source": [
    "import openmc_sinbad_benchmarks as osb\n",
    "import matplotlib.pyplot as plt\n",
    "import numpy as np"
   ]
  },
  {
   "cell_type": "markdown",
   "metadata": {},
   "source": [
    "First we need to instantiate a `ResultsFromDatabase` object by providing the name of the file to read (`filename`) and its path (`path`)."
   ]
  },
  {
   "cell_type": "code",
   "execution_count": 2,
   "metadata": {},
   "outputs": [],
   "source": [
    "experiment_file = osb.ResultsFromDatabase(filename='experiment.h5', path='example_database')\n",
    "mcnp_fendl1_file = osb.ResultsFromDatabase(filename='mcnp_fendl1.h5', path='example_database')"
   ]
  },
  {
   "cell_type": "markdown",
   "metadata": {},
   "source": [
    "Usually the file is read from a **postprocessing** notebook that is in the benchmark/model folder with contains the `\\results_database\\` folder. Therefore, the `path` argument defaults to a `\\results_database\\` folder."
   ]
  },
  {
   "cell_type": "markdown",
   "metadata": {},
   "source": [
    "### Extract info\n",
    "If present, it is possible to extract and print some information regarding the experiment/simulation that produced the results present in the hdf file. Typical information can be:\n",
    "- `when` the experiment/simulation have been performed\n",
    "- `Where` the experiment/simulation have been performed (either place or institution)\n",
    "- `literature_info` regarding the experiment/model/simulation (most likely the link to a paper or report)\n",
    "- `code_version` if the hdf file refers to simulation results, useful info for V&V purposes\n",
    "- `xs_library` (nuclear data library name and version) if the hdf file refers to simulation results, useful info for V&V purposes"
   ]
  },
  {
   "cell_type": "markdown",
   "metadata": {},
   "source": [
    "Example of experimental information extraction:"
   ]
  },
  {
   "cell_type": "code",
   "execution_count": 3,
   "metadata": {},
   "outputs": [
    {
     "name": "stdout",
     "output_type": "stream",
     "text": [
      "When: ['1997-1998']\n",
      "Where: ['ENEA, Frascati (Italy)']\n",
      "Literature: ['https://doi.org/10.1016/S0920-3796(00)00205-2']\n"
     ]
    }
   ],
   "source": [
    "when = experiment_file.when\n",
    "where = experiment_file.where\n",
    "literature = experiment_file.literature_info\n",
    "\n",
    "print(f'When: {when}')\n",
    "print(f'Where: {where}')\n",
    "print(f'Literature: {literature}')"
   ]
  },
  {
   "cell_type": "markdown",
   "metadata": {},
   "source": [
    "It is also possible to print all the information at once with the `print_all_info` method:"
   ]
  },
  {
   "cell_type": "code",
   "execution_count": 4,
   "metadata": {},
   "outputs": [
    {
     "name": "stdout",
     "output_type": "stream",
     "text": [
      "When: ['1997-1998'] \n",
      " Where: ['ENEA, Frascati (Italy)'] \n",
      " Code version:n/a \n",
      " XS library: n/a \n",
      "Literature: ['https://doi.org/10.1016/S0920-3796(00)00205-2'] \n",
      "\n"
     ]
    }
   ],
   "source": [
    "experiment_file.print_all_info()"
   ]
  },
  {
   "cell_type": "markdown",
   "metadata": {},
   "source": [
    "Similarly, for hdf files containing numerical simulation results:"
   ]
  },
  {
   "cell_type": "code",
   "execution_count": 5,
   "metadata": {},
   "outputs": [
    {
     "name": "stdout",
     "output_type": "stream",
     "text": [
      "When: n/a \n",
      " Where: n/a \n",
      " Code version:MCNP-4A/B \n",
      " XS library: FENDL-1.0 \n",
      "Literature: ['https://doi.org/10.1016/S0920-3796(00)00205-2'] \n",
      "\n"
     ]
    }
   ],
   "source": [
    "cv = mcnp_fendl1_file.code_version\n",
    "xslib = mcnp_fendl1_file.xs_library\n",
    "literature = mcnp_fendl1_file.literature_info\n",
    "\n",
    "mcnp_fendl1_file.print_all_info()"
   ]
  },
  {
   "cell_type": "markdown",
   "metadata": {},
   "source": [
    "In the case of hdf file containing simulation results it is possible to print just the `code_info`. Namely the `code_version` and `xs_library`:"
   ]
  },
  {
   "cell_type": "code",
   "execution_count": 7,
   "metadata": {},
   "outputs": [
    {
     "name": "stdout",
     "output_type": "stream",
     "text": [
      "Code version:MCNP-4A/B \n",
      " XS library: FENDL-1.0 \n",
      "\n"
     ]
    }
   ],
   "source": [
    "mcnp_fendl1_file.print_code_info()"
   ]
  },
  {
   "cell_type": "markdown",
   "metadata": {},
   "source": [
    "### Extract a tally"
   ]
  },
  {
   "cell_type": "markdown",
   "metadata": {},
   "source": [
    "In order to extract a tally from a hdf file it is necessary to know its exact name. The `ResultsFromDatabase` object has a `list_tallies()` method that helps identifying the names of all the tallies available:"
   ]
  },
  {
   "cell_type": "code",
   "execution_count": 13,
   "metadata": {},
   "outputs": [
    {
     "name": "stdout",
     "output_type": "stream",
     "text": [
      "<KeysViewHDF5 ['nuclear_heating', 'rr_offaxis_al27', 'rr_offaxis_au197', 'rr_offaxis_nb93', 'rr_offaxis_ni58', 'rr_onaxis1_al27', 'rr_onaxis1_au197', 'rr_onaxis1_nb93', 'rr_onaxis1_ni58', 'rr_onaxis2_al27', 'rr_onaxis2_au197', 'rr_onaxis2_nb93', 'rr_onaxis2_ni58']>\n"
     ]
    }
   ],
   "source": [
    "experiment_file.list_tallies()"
   ]
  },
  {
   "cell_type": "markdown",
   "metadata": {},
   "source": [
    "We chose, as example, the tally named `rr_offaxis_al27` and extract its results in a Pandas DataFrame format with the `get_tally_dataframe` method:"
   ]
  },
  {
   "cell_type": "code",
   "execution_count": 16,
   "metadata": {},
   "outputs": [
    {
     "data": {
      "text/plain": [
       "array([( 0, b'0.25', 2.87e-04, 1.0045e-05),\n",
       "       ( 1, b'12.95', 3.54e-05, 1.2390e-06),\n",
       "       ( 2, b'25.95', 1.23e-05, 4.9200e-07),\n",
       "       ( 3, b'38.65', 6.06e-06, 2.4240e-07),\n",
       "       ( 4, b'43.82', 4.65e-06, 1.8600e-07),\n",
       "       ( 5, b'46.35', 3.28e-06, 1.9024e-07),\n",
       "       ( 6, b'53.3', 1.02e-06, 6.5280e-08),\n",
       "       ( 7, b'60.05', 3.02e-07, 1.9630e-08),\n",
       "       ( 8, b'66.9', 7.98e-08, 5.6658e-09),\n",
       "       ( 9, b'73.9', 2.46e-08, 1.9188e-09),\n",
       "       (10, b'80.6', 7.31e-09, 6.8714e-10),\n",
       "       (11, b'87.25', 2.14e-09, 2.3968e-10),\n",
       "       (12, b'91.65', 1.07e-09, 1.3375e-10)],\n",
       "      dtype=[('index', '<i8'), ('Shield depth (cm)', 'S5'), ('mean', '<f8'), ('std. dev.', '<f8')])"
      ]
     },
     "execution_count": 16,
     "metadata": {},
     "output_type": "execute_result"
    }
   ],
   "source": [
    "results = experiment_file.get_tally_dataframe(tally_name='rr_onaxis1_al27')\n",
    "\n",
    "results"
   ]
  },
  {
   "cell_type": "markdown",
   "metadata": {},
   "source": [
    "It is possible to view single columns of the dataframe by calling the column name (names listed in the bottom line of the previous):"
   ]
  },
  {
   "cell_type": "code",
   "execution_count": 17,
   "metadata": {},
   "outputs": [
    {
     "name": "stdout",
     "output_type": "stream",
     "text": [
      "[b'0.25' b'12.95' b'25.95' b'38.65' b'43.82' b'46.35' b'53.3' b'60.05'\n",
      " b'66.9' b'73.9' b'80.6' b'87.25' b'91.65']\n",
      "[2.87e-04 3.54e-05 1.23e-05 6.06e-06 4.65e-06 3.28e-06 1.02e-06 3.02e-07\n",
      " 7.98e-08 2.46e-08 7.31e-09 2.14e-09 1.07e-09]\n"
     ]
    }
   ],
   "source": [
    "print(results['mean'])\n",
    "print(results['std. dev.'])"
   ]
  },
  {
   "cell_type": "markdown",
   "metadata": {},
   "source": [
    "Typical experimental or statistical results (e.g. Monte Carlo simulation) are provided with the `mean` and `std. dev.` columns.\n",
    "Where the `std. dev.` column provides the **standard deviation absolute values (not relative)**."
   ]
  },
  {
   "cell_type": "markdown",
   "metadata": {},
   "source": [
    "Strings need to be decoded:"
   ]
  },
  {
   "cell_type": "code",
   "execution_count": 18,
   "metadata": {},
   "outputs": [
    {
     "name": "stdout",
     "output_type": "stream",
     "text": [
      "['0.25', '12.95', '25.95', '38.65', '43.82', '46.35', '53.3', '60.05', '66.9', '73.9', '80.6', '87.25', '91.65']\n"
     ]
    }
   ],
   "source": [
    "print([el.decode() for el in results['Shield depth (cm)']])"
   ]
  },
  {
   "cell_type": "markdown",
   "metadata": {},
   "source": [
    "### Plot\n",
    "To plot the results from a dataframe the `ResultsFromDatabase` object has a `get_tally_xaxis` that suggest the column name that should be in the x-axis of the plot:"
   ]
  },
  {
   "cell_type": "code",
   "execution_count": 19,
   "metadata": {},
   "outputs": [
    {
     "data": {
      "text/plain": [
       "'Shield depth (cm)'"
      ]
     },
     "execution_count": 19,
     "metadata": {},
     "output_type": "execute_result"
    }
   ],
   "source": [
    "xaxis = experiment_file.get_tally_xaxis(tally_name='rr_onaxis1_al27')\n",
    "\n",
    "xaxis"
   ]
  },
  {
   "cell_type": "markdown",
   "metadata": {},
   "source": [
    "Classic plotting of Monte Carlo results require both the `mean` and `std. dev.`"
   ]
  },
  {
   "cell_type": "code",
   "execution_count": 34,
   "metadata": {},
   "outputs": [
    {
     "data": {
      "image/png": "[encoded data removed]",
      "text/plain": [
       "<Figure size 640x480 with 1 Axes>"
      ]
     },
     "metadata": {},
     "output_type": "display_data"
    }
   ],
   "source": [
    "tickers = np.arange(len(results['mean']))\n",
    "\n",
    "fig, ax = plt.subplots()\n",
    "osb.plot_stddev_area(ax=ax, ticks=tickers, mean=results['mean'], std_dev=results['std. dev.'],\n",
    "                     color='tab:blue', alpha=.2, uncertainty_deg=3)\n",
    "ax.plot(tickers, results['mean'], marker='d', mec='k', ls='', color='tab:blue')\n",
    "ax.set_xticks(tickers)\n",
    "ax.set_xticklabels([el.decode() for el in results[xaxis]])\n",
    "ax.tick_params(axis='x', labelrotation=45)\n",
    "ax.set_xlabel(xaxis, fontsize=12)\n",
    "ax.set_ylabel(r'Reaction Rate $(\\frac{1}{src \\cdot atom})$', fontsize=12)\n",
    "ax.set_yscale('log')\n",
    "\n",
    "plt.show()"
   ]
  },
  {
   "cell_type": "code",
   "execution_count": null,
   "metadata": {},
   "outputs": [],
   "source": []
  }
 ],
 "metadata": {
  "kernelspec": {
   "display_name": "baby_neutronics",
   "language": "python",
   "name": "python3"
  },
  "language_info": {
   "codemirror_mode": {
    "name": "ipython",
    "version": 3
   },
   "file_extension": ".py",
   "mimetype": "text/x-python",
   "name": "python",
   "nbconvert_exporter": "python",
   "pygments_lexer": "ipython3",
   "version": "3.9.17"
  },
  "orig_nbformat": 4
 },
 "nbformat": 4,
 "nbformat_minor": 2
}
