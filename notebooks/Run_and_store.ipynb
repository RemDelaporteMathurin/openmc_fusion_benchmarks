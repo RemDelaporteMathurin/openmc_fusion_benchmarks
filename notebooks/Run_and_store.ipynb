{
 "cells": [
  {
   "cell_type": "markdown",
   "metadata": {},
   "source": [
    "# Run simulations and store in results_database/ in one click\n",
    "This notebook shows how to run all the simulations necessary to build a complete hdf file suitable for the `results_database/` folder of a given benchmark and directly store that file with just one command line."
   ]
  },
  {
   "cell_type": "markdown",
   "metadata": {},
   "source": [
    "### The script\n",
    "The script is called `run_and_store.py` and there is one in every benchmark model folder. It can be run via command line and it just requires some additional arguments:\n",
    "- `-x` or `--xslib` (required): string specifying the name of the nuclear data library used\n",
    "- `-t` or `--when` (optional): string specifying when the simulation is run (e.g. Month and Year)\n",
    "- `-w` or `--where` (optional): string specifying the place or institution where the simulation run\n",
    "\n",
    "It is sufficient to open a command windows, navigate to a given benchmark folder with a `run_and_store.py` file in it and run a line similar to the following:\n",
    "\n",
    "```cmd\n",
    "python3 run_and_store.py -x 'FENDL-3.2b' -t 'December 2023' -w 'MIT-PSFC'\n",
    "```\n",
    "The command will run all the simulations and directly store a hdf file named after the nuclear data library (in this case `openmc_fendl32b.h5`) in the `results_database/` folder of the chosen benchmark."
   ]
  },
  {
   "cell_type": "markdown",
   "metadata": {},
   "source": [
    "### Pros and Cons\n",
    "\n",
    "Pros are that it is not necessary to go through the `ResultsFromOpenmc` class - and likely additional postoprocessing steps - to store the tallies one by one in an hdf file. Everything is now automated. There is a script that takes care about simulating, postprocessing and storing. Once the script is done running there will be an hdf file in the `results_database/` folder that can be postprocessed like any other file in that folder (i.e. with the `ResultsFromDatabase` class).\n",
    "\n",
    "Cons are that there is not a lot of versatility for the user to change the simulation settings (e.g. chose number of particles and number of batches). The script runs simulations with the default number of particles, which is the minimum for the tallies to converge. Also, if a benchmark requires more than one simulations to get all the tallies (e.g. `fng_str` requires three) it runs all of them sequentially. This might become computationally intensive. It nevertheless possible go and change the default settings directly in the model files."
   ]
  },
  {
   "cell_type": "markdown",
   "metadata": {},
   "source": []
  }
 ],
 "metadata": {
  "kernelspec": {
   "display_name": "baby_neutronics",
   "language": "python",
   "name": "python3"
  },
  "language_info": {
   "codemirror_mode": {
    "name": "ipython",
    "version": 3
   },
   "file_extension": ".py",
   "mimetype": "text/x-python",
   "name": "python",
   "nbconvert_exporter": "python",
   "pygments_lexer": "ipython3",
   "version": "3.9.17"
  }
 },
 "nbformat": 4,
 "nbformat_minor": 2
}
