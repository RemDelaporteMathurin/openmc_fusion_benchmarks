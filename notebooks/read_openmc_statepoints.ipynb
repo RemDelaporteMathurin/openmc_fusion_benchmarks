{
 "cells": [
  {
   "cell_type": "markdown",
   "metadata": {},
   "source": [
    "# Read OpenMC StatePoint files"
   ]
  },
  {
   "cell_type": "markdown",
   "metadata": {},
   "source": [
    "Openmc has an extensive python API for postprocessing its statepoint files. Jupyter notebook tutorials can be found [here](https://github.com/openmc-dev/openmc/wiki/Example-Jupyter-Notebooks#tallies-and-visualization), while the documentation Statepoint class - main class for postprocessing - can be found [here](https://docs.openmc.org/en/stable/pythonapi/generated/openmc.StatePoint.html?highlight=openmc.statepoint).\n",
    "OSB provides a wrapper based on the StatePoint class that works with openmc results in a format compatible with the HDF files already present in the \"results_database\" folders of the benchmark models (i.e. dataframe, dataset).\n",
    "\n",
    "With the osb.ResultsFromOpenmc class it is possible to:\n",
    "- Read an openmc statepoint file\n",
    "- Extract any tally in a [Pandas DataFrame](https://pandas.pydata.org/docs/reference/api/pandas.DataFrame.html) format\n",
    "- Extract info about the code run that produced the statepoint file (i.e. openmc version, particles per batch, batches etc.)\n",
    "- Store the tally in a hdf file in a format compatible with the hdf files already present in the \"results_database\" folder"
   ]
  },
  {
   "cell_type": "code",
   "execution_count": 1,
   "metadata": {},
   "outputs": [],
   "source": [
    "import openmc\n",
    "import openmc_sinbad_benchmarks as osb"
   ]
  },
  {
   "cell_type": "code",
   "execution_count": 2,
   "metadata": {},
   "outputs": [],
   "source": [
    "statepoint = osb.ResultsFromOpenmc(statepoint_file='statepoint.100.h5', path='../models/fng_str/heating')"
   ]
  },
  {
   "cell_type": "code",
   "execution_count": null,
   "metadata": {},
   "outputs": [],
   "source": []
  }
 ],
 "metadata": {
  "kernelspec": {
   "display_name": "baby_neutronics",
   "language": "python",
   "name": "python3"
  },
  "language_info": {
   "codemirror_mode": {
    "name": "ipython",
    "version": 3
   },
   "file_extension": ".py",
   "mimetype": "text/x-python",
   "name": "python",
   "nbconvert_exporter": "python",
   "pygments_lexer": "ipython3",
   "version": "3.9.17"
  },
  "orig_nbformat": 4
 },
 "nbformat": 4,
 "nbformat_minor": 2
}
